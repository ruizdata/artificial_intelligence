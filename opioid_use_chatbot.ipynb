{
 "cells": [
  {
   "cell_type": "code",
   "execution_count": 1,
   "id": "68b22f9c",
   "metadata": {},
   "outputs": [
    {
     "name": "stdout",
     "output_type": "stream",
     "text": [
      "Requirement already satisfied: regex in c:\\users\\rruiz\\anaconda3\\lib\\site-packages (2022.7.9)\n",
      "Note: you may need to restart the kernel to use updated packages.\n"
     ]
    }
   ],
   "source": [
    "pip install regex"
   ]
  },
  {
   "cell_type": "code",
   "execution_count": 2,
   "id": "5b9792a3",
   "metadata": {},
   "outputs": [
    {
     "name": "stdout",
     "output_type": "stream",
     "text": [
      "Opioid Use FAQ Chatbot\n",
      "Type 'exit' to end the conversation.\n",
      "User: What are opioids?\n",
      "Chatbot: Opioids are a class of drugs that include prescription pain relievers...\n",
      "User: What are the side effects?\n",
      "Chatbot: Common side effects of opioids include drowsiness, constipation, and nausea...\n",
      "User: How to deal with addiction?\n",
      "Chatbot: Opioid addiction is a serious medical condition that requires proper treatment and support...\n",
      "User: exit\n",
      "Chatbot: Goodbye!\n"
     ]
    }
   ],
   "source": [
    "import re\n",
    "\n",
    "def get_response(user_input):\n",
    "    user_input = user_input.lower()\n",
    "\n",
    "    if re.search(r'\\b(opioid|opioids)\\b', user_input):\n",
    "        response = \"Opioids are a class of drugs that include prescription pain relievers...\"\n",
    "    elif re.search(r'\\b(addiction)\\b', user_input):\n",
    "        response = \"Opioid addiction is a serious medical condition that requires proper treatment and support...\"\n",
    "    elif re.search(r'\\b(side effects)\\b', user_input):\n",
    "        response = \"Common side effects of opioids include drowsiness, constipation, and nausea...\"\n",
    "    elif re.search(r'\\b(withdrawal)\\b', user_input):\n",
    "        response = \"Opioid withdrawal symptoms can include muscle aches, insomnia, and anxiety...\"\n",
    "    else:\n",
    "        response = \"I'm sorry, I don't have information on that topic. Please consult a healthcare professional.\"\n",
    "\n",
    "    return response\n",
    "\n",
    "def main():\n",
    "    print(\"Opioid Use FAQ Chatbot\")\n",
    "    print(\"Type 'exit' to end the conversation.\")\n",
    "\n",
    "    while True:\n",
    "        user_input = input(\"User: \")\n",
    "        if user_input.lower() == 'exit':\n",
    "            print(\"Chatbot: Goodbye!\")\n",
    "            break\n",
    "\n",
    "        response = get_response(user_input)\n",
    "        print(\"Chatbot:\", response)\n",
    "\n",
    "if __name__ == \"__main__\":\n",
    "    main()\n"
   ]
  }
 ],
 "metadata": {
  "kernelspec": {
   "display_name": "Python 3 (ipykernel)",
   "language": "python",
   "name": "python3"
  },
  "language_info": {
   "codemirror_mode": {
    "name": "ipython",
    "version": 3
   },
   "file_extension": ".py",
   "mimetype": "text/x-python",
   "name": "python",
   "nbconvert_exporter": "python",
   "pygments_lexer": "ipython3",
   "version": "3.11.3"
  }
 },
 "nbformat": 4,
 "nbformat_minor": 5
}
