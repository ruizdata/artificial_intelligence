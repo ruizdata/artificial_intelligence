{
 "cells": [
  {
   "cell_type": "code",
   "execution_count": 1,
   "id": "68b22f9c",
   "metadata": {},
   "outputs": [
    {
     "name": "stdout",
     "output_type": "stream",
     "text": [
      "Requirement already satisfied: regex in c:\\users\\rruiz\\anaconda3\\lib\\site-packages (2022.7.9)\n",
      "Note: you may need to restart the kernel to use updated packages.\n"
     ]
    }
   ],
   "source": [
    "pip install regex"
   ]
  },
  {
   "cell_type": "code",
   "execution_count": null,
   "id": "5b9792a3",
   "metadata": {
    "scrolled": true
   },
   "outputs": [
    {
     "name": "stdout",
     "output_type": "stream",
     "text": [
      "Opioid Use FAQ Chatbot\n",
      "Type 'exit' to end the conversation.\n",
      "User: What are opioids?\n",
      "Chatbot: Opioids are a class of drugs that include prescription pain relievers...\n",
      "User: How to deal with addiction?\n",
      "Chatbot: Opioid addiction is a serious medical condition that requires proper treatment and support...\n",
      "User: What are the side effects?\n",
      "Chatbot: Common side effects of opioids include drowsiness, constipation, and nausea...\n"
     ]
    }
   ],
   "source": [
    "import re\n",
    "\n",
    "def get_response(user_input):\n",
    "    user_input = user_input.lower()\n",
    "\n",
    "    if re.search(r'\\b(opioid|opioids)\\b', user_input):\n",
    "        response = \"Opioids are a class of drugs that include prescription pain relievers...\"\n",
    "    elif re.search(r'\\b(addiction)\\b', user_input):\n",
    "        response = \"Opioid addiction is a serious medical condition that requires proper treatment and support...\"\n",
    "    elif re.search(r'\\b(side effects)\\b', user_input):\n",
    "        response = \"Common side effects of opioids include drowsiness, constipation, and nausea...\"\n",
    "    elif re.search(r'\\b(withdrawal)\\b', user_input):\n",
    "        response = \"Opioid withdrawal symptoms can include muscle aches, insomnia, and anxiety...\"\n",
    "    elif re.search(r'\\b(overdose)\\b', user_input):\n",
    "        response = \"An opioid overdose is a medical emergency. Call emergency services immediately...\"\n",
    "    elif re.search(r'\\b(treatment options)\\b', user_input):\n",
    "        response = \"Treatment options for opioid addiction may include medication-assisted treatment (MAT) and counseling...\"\n",
    "    elif re.search(r'\\b(risks)\\b', user_input):\n",
    "        response = \"Using opioids carries risks, including the potential for addiction, overdose, and respiratory depression...\"\n",
    "    elif re.search(r'\\b(recovery)\\b', user_input):\n",
    "        response = \"Recovery from opioid addiction is a process that often involves medical treatment, counseling, and support groups...\"\n",
    "    elif re.search(r'\\b(help)\\b', user_input):\n",
    "        response = \"If you or someone you know is struggling with opioid use, seek help from a healthcare professional or helpline...\"\n",
    "    else:\n",
    "        response = \"I'm sorry, I don't have information on that topic. Please consult a healthcare professional.\"\n",
    "\n",
    "    return response\n",
    "\n",
    "def main():\n",
    "    print(\"Opioid Use FAQ Chatbot\")\n",
    "    print(\"Type 'exit' to end the conversation.\")\n",
    "\n",
    "    while True:\n",
    "        user_input = input(\"User: \")\n",
    "        if user_input.lower() == 'exit':\n",
    "            print(\"Chatbot: Goodbye!\")\n",
    "            break\n",
    "\n",
    "        response = get_response(user_input)\n",
    "        print(\"Chatbot:\", response)\n",
    "\n",
    "if __name__ == \"__main__\":\n",
    "    main()\n"
   ]
  },
  {
   "cell_type": "code",
   "execution_count": null,
   "id": "aa40b1c2",
   "metadata": {},
   "outputs": [],
   "source": [
    "pip install ipywidgets"
   ]
  },
  {
   "cell_type": "code",
   "execution_count": null,
   "id": "22be4e16",
   "metadata": {},
   "outputs": [],
   "source": [
    "import re\n",
    "import ipywidgets as widgets\n",
    "from IPython.display import display\n",
    "\n",
    "def get_response(user_input):\n",
    "    user_input = user_input.lower()\n",
    "\n",
    "    if re.search(r'\\b(opioid|opioids)\\b', user_input):\n",
    "        response = \"Opioids are a class of drugs that include prescription pain relievers...\"\n",
    "    elif re.search(r'\\b(addiction)\\b', user_input):\n",
    "        response = \"Opioid addiction is a serious medical condition that requires proper treatment and support...\"\n",
    "    # Add more cases for other topics\n",
    "\n",
    "    return response\n",
    "\n",
    "# Define widgets\n",
    "user_input_widget = widgets.Text(description=\"User:\")\n",
    "output_widget = widgets.Output()\n",
    "exit_button = widgets.Button(description=\"Exit\")\n",
    "\n",
    "# Define callback functions\n",
    "def process_input(_):\n",
    "    user_input = user_input_widget.value\n",
    "    if user_input.lower() == 'exit':\n",
    "        with output_widget:\n",
    "            print(\"Chatbot: Goodbye!\")\n",
    "        user_input_widget.disabled = True\n",
    "        exit_button.disabled = True\n",
    "    else:\n",
    "        response = get_response(user_input)\n",
    "        with output_widget:\n",
    "            print(f\"Chatbot: {response}\")\n",
    "\n",
    "# Set callback function for the Exit button\n",
    "exit_button.on_click(process_input)\n",
    "\n",
    "# Display widgets\n",
    "display(user_input_widget)\n",
    "display(exit_button)\n",
    "display(output_widget)\n",
    "\n",
    "# You can run this cell and interact with the chatbot interface.\n"
   ]
  }
 ],
 "metadata": {
  "kernelspec": {
   "display_name": "Python 3 (ipykernel)",
   "language": "python",
   "name": "python3"
  },
  "language_info": {
   "codemirror_mode": {
    "name": "ipython",
    "version": 3
   },
   "file_extension": ".py",
   "mimetype": "text/x-python",
   "name": "python",
   "nbconvert_exporter": "python",
   "pygments_lexer": "ipython3",
   "version": "3.11.3"
  }
 },
 "nbformat": 4,
 "nbformat_minor": 5
}
