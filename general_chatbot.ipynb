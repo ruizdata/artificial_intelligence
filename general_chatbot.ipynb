{
 "cells": [
  {
   "cell_type": "code",
   "execution_count": 1,
   "id": "bec903cf",
   "metadata": {},
   "outputs": [],
   "source": [
    "pip install ipywidgets\n"
   ]
  },
  {
   "cell_type": "code",
   "execution_count": 2,
   "id": "dac434ad",
   "metadata": {},
   "outputs": [],
   "source": [
    "responses = {\n",
    "    \"hello\": \"Hi there! How can I assist you today?\",\n",
    "    \"how are you\": \"I'm just a chatbot, but I'm here to help!\",\n",
    "    \"bye\": \"Goodbye! Feel free to come back anytime.\",\n",
    "    \"default\": \"I'm not sure how to respond to that.\"\n",
    "}\n"
   ]
  },
  {
   "cell_type": "code",
   "execution_count": 3,
   "id": "0e98727a",
   "metadata": {},
   "outputs": [],
   "source": [
    "def chatbot_response(user_input):\n",
    "    user_input = user_input.lower()\n",
    "    \n",
    "    if user_input in responses:\n",
    "        return responses[user_input]\n",
    "    else:\n",
    "        return responses[\"default\"]\n"
   ]
  },
  {
   "cell_type": "code",
   "execution_count": 5,
   "id": "00990958",
   "metadata": {},
   "outputs": [],
   "source": [
    "import ipywidgets as widgets\n",
    "from IPython.display import display\n",
    "\n",
    "output = widgets.Output()\n",
    "\n",
    "def on_button_click(b):\n",
    "    with output:\n",
    "        user_input = text_input.value\n",
    "        response = chatbot_response(user_input)\n",
    "        print(\"User:\", user_input)\n",
    "        print(\"Chatbot:\", response)\n",
    "        text_input.value = \"\"\n",
    "\n",
    "text_input = widgets.Text(placeholder=\"Type your message here...\")\n",
    "send_button = widgets.Button(description=\"Send\")\n",
    "\n",
    "send_button.on_click(on_button_click)\n",
    "\n",
    "display(text_input, send_button, output)\n"
   ]
  },
  {
   "cell_type": "code",
   "execution_count": 6,
   "id": "947be01d",
   "metadata": {},
   "outputs": [],
   "source": [
    "import ipywidgets as widgets\n",
    "from IPython.display import display\n",
    "\n",
    "responses = {\n",
    "    \"hello\": \"Hi there! How can I assist you today?\",\n",
    "    \"how are you\": \"I'm just a chatbot, but I'm here to help!\",\n",
    "    \"bye\": \"Goodbye! Feel free to come back anytime.\",\n",
    "    \"default\": \"I'm not sure how to respond to that.\"\n",
    "}\n",
    "\n",
    "def chatbot_response(user_input):\n",
    "    user_input = user_input.lower()\n",
    "    \n",
    "    if user_input in responses:\n",
    "        return responses[user_input]\n",
    "    else:\n",
    "        return responses[\"default\"]\n",
    "\n",
    "output = widgets.Output()\n",
    "\n",
    "def on_button_click(b):\n",
    "    with output:\n",
    "        user_input = text_input.value\n",
    "        response = chatbot_response(user_input)\n",
    "        print(\"User:\", user_input)\n",
    "        print(\"Chatbot:\", response)\n",
    "        text_input.value = \"\"\n",
    "\n",
    "text_input = widgets.Text(placeholder=\"Type your message here...\")\n",
    "send_button = widgets.Button(description=\"Send\")\n",
    "\n",
    "send_button.on_click(on_button_click)\n",
    "\n",
    "display(text_input, send_button, output)\n"
   ]
  },
  {
   "cell_type": "code",
   "execution_count": null,
   "id": "2ccd5490",
   "metadata": {},
   "outputs": [
    {
     "name": "stdout",
     "output_type": "stream",
     "text": [
      "You: hello\n",
      "You: hi\n",
      "You: bye\n"
     ]
    }
   ],
   "source": [
    "responses = {\n",
    "    \"hello\": \"Hi there! How can I assist you today?\",\n",
    "    \"how are you\": \"I'm just a chatbot, but I'm here to help!\",\n",
    "    \"bye\": \"Goodbye! Feel free to come back anytime.\",\n",
    "    \"default\": \"I'm not sure how to respond to that.\"\n",
    "}\n",
    "\n",
    "def chatbot_response(user_input):\n",
    "    user_input = user_input.lower()\n",
    "    \n",
    "    if user_input in responses:\n",
    "        return responses[user_input]\n",
    "    else:\n",
    "        return responses[\"default\"]\n",
    "\n",
    "print(\"Chatbot: Hi! How can I help you today?\")\n",
    "\n",
    "while True:\n",
    "    user_input = input(\"You: \")\n",
    "    if user_input.lower() == \"exit\":\n",
    "        print(\"Chatbot: Goodbye!\")\n",
    "        break\n",
    "    response = chatbot_response(user_input)\n",
    "    print(\"Chatbot:\", response)\n"
   ]
  },
  {
   "cell_type": "code",
   "execution_count": null,
   "id": "3b49e3fa",
   "metadata": {},
   "outputs": [],
   "source": [
    "responses = {\n",
    "    \"hello\": \"Hi there! How can I assist you today?\",\n",
    "    \"how are you\": \"I'm just a chatbot, but I'm here to help!\",\n",
    "    \"bye\": \"Goodbye! Feel free to come back anytime.\",\n",
    "    \"default\": \"I'm not sure how to respond to that.\"\n",
    "}\n",
    "\n",
    "def chatbot_response(user_input):\n",
    "    user_input = user_input.lower()\n",
    "    \n",
    "    if user_input in responses:\n",
    "        return responses[user_input]\n",
    "    else:\n",
    "        return responses[\"default\"]\n",
    "\n",
    "print(\"Chatbot: Hi! How can I help you today? Type 'exit' to end the conversation.\")\n",
    "\n",
    "while True:\n",
    "    user_input = input(\"You: \")\n",
    "    if user_input.lower() == \"exit\":\n",
    "        print(\"Chatbot: Goodbye!\")\n",
    "        break\n",
    "    response = chatbot_response(user_input)\n",
    "    print(\"Chatbot:\", response)\n"
   ]
  }
 ],
 "metadata": {
  "kernelspec": {
   "display_name": "Python 3 (ipykernel)",
   "language": "python",
   "name": "python3"
  },
  "language_info": {
   "codemirror_mode": {
    "name": "ipython",
    "version": 3
   },
   "file_extension": ".py",
   "mimetype": "text/x-python",
   "name": "python",
   "nbconvert_exporter": "python",
   "pygments_lexer": "ipython3",
   "version": "3.11.3"
  }
 },
 "nbformat": 4,
 "nbformat_minor": 5
}
